{
 "cells": [
  {
   "cell_type": "code",
   "execution_count": 1,
   "metadata": {},
   "outputs": [],
   "source": [
    "import pandas as pd\n",
    "import numpy as np\n",
    "import matplotlib.pyplot as  plt\n",
    "import seaborn as sns\n",
    "%matplotlib inline"
   ]
  },
  {
   "cell_type": "code",
   "execution_count": 2,
   "metadata": {},
   "outputs": [],
   "source": [
    "resto_info = pd.read_csv('RestoInfo.csv')"
   ]
  },
  {
   "cell_type": "code",
   "execution_count": 3,
   "metadata": {},
   "outputs": [
    {
     "data": {
      "text/html": [
       "<div>\n",
       "<style scoped>\n",
       "    .dataframe tbody tr th:only-of-type {\n",
       "        vertical-align: middle;\n",
       "    }\n",
       "\n",
       "    .dataframe tbody tr th {\n",
       "        vertical-align: top;\n",
       "    }\n",
       "\n",
       "    .dataframe thead th {\n",
       "        text-align: right;\n",
       "    }\n",
       "</style>\n",
       "<table border=\"1\" class=\"dataframe\">\n",
       "  <thead>\n",
       "    <tr style=\"text-align: right;\">\n",
       "      <th></th>\n",
       "      <th>Unnamed: 0</th>\n",
       "      <th>name</th>\n",
       "      <th>online_order</th>\n",
       "      <th>book_table</th>\n",
       "      <th>rate</th>\n",
       "      <th>votes</th>\n",
       "      <th>location</th>\n",
       "      <th>rest_type</th>\n",
       "      <th>dish_liked</th>\n",
       "      <th>cuisines</th>\n",
       "      <th>approx_cost(for two people)</th>\n",
       "      <th>reviews_list</th>\n",
       "      <th>menu_item</th>\n",
       "      <th>listed_in(type)</th>\n",
       "      <th>listed_in(city)</th>\n",
       "    </tr>\n",
       "  </thead>\n",
       "  <tbody>\n",
       "    <tr>\n",
       "      <th>0</th>\n",
       "      <td>46019</td>\n",
       "      <td>Unique Brew Cafe Resto</td>\n",
       "      <td>No</td>\n",
       "      <td>No</td>\n",
       "      <td>NaN</td>\n",
       "      <td>0</td>\n",
       "      <td>Indiranagar</td>\n",
       "      <td>Quick Bites</td>\n",
       "      <td>NaN</td>\n",
       "      <td>Fast Food</td>\n",
       "      <td>200</td>\n",
       "      <td>[]</td>\n",
       "      <td>[]</td>\n",
       "      <td>Dine-out</td>\n",
       "      <td>Old Airport Road</td>\n",
       "    </tr>\n",
       "    <tr>\n",
       "      <th>1</th>\n",
       "      <td>28849</td>\n",
       "      <td>Jayanthi Sagar</td>\n",
       "      <td>No</td>\n",
       "      <td>No</td>\n",
       "      <td>3.1 /5</td>\n",
       "      <td>21</td>\n",
       "      <td>Koramangala 5th Block</td>\n",
       "      <td>Quick Bites</td>\n",
       "      <td>NaN</td>\n",
       "      <td>South Indian, North Indian, Chinese</td>\n",
       "      <td>200</td>\n",
       "      <td>[('Rated 2.0', \"RATEDn  Works only because it'...</td>\n",
       "      <td>[]</td>\n",
       "      <td>Dine-out</td>\n",
       "      <td>Koramangala 4th Block</td>\n",
       "    </tr>\n",
       "    <tr>\n",
       "      <th>2</th>\n",
       "      <td>19855</td>\n",
       "      <td>Rock Stone Ice Cream Factory</td>\n",
       "      <td>Yes</td>\n",
       "      <td>No</td>\n",
       "      <td>4.0/5</td>\n",
       "      <td>131</td>\n",
       "      <td>BTM</td>\n",
       "      <td>Dessert Parlor</td>\n",
       "      <td>Icecream Cake, Brownie, Waffles, Chocolate Ice...</td>\n",
       "      <td>Ice Cream</td>\n",
       "      <td>230</td>\n",
       "      <td>[('Rated 4.0', \"RATEDn  Ice creams are really ...</td>\n",
       "      <td>['Midnight Indulgence Cake', 'Butterscotch Mel...</td>\n",
       "      <td>Delivery</td>\n",
       "      <td>Jayanagar</td>\n",
       "    </tr>\n",
       "    <tr>\n",
       "      <th>3</th>\n",
       "      <td>35188</td>\n",
       "      <td>Punjabi by Nature 2.0</td>\n",
       "      <td>No</td>\n",
       "      <td>No</td>\n",
       "      <td>4.2 /5</td>\n",
       "      <td>3236</td>\n",
       "      <td>BTM</td>\n",
       "      <td>Casual Dining, Microbrewery</td>\n",
       "      <td>Paneer Tikki, Mutton Raan, Mango Margarita, Cr...</td>\n",
       "      <td>North Indian</td>\n",
       "      <td>NaN</td>\n",
       "      <td>[('Rated 3.0', \"RATEDn  It has a beautiful amb...</td>\n",
       "      <td>[]</td>\n",
       "      <td>Delivery</td>\n",
       "      <td>Koramangala 7th Block</td>\n",
       "    </tr>\n",
       "    <tr>\n",
       "      <th>4</th>\n",
       "      <td>7070</td>\n",
       "      <td>Rayalaseema Chefs</td>\n",
       "      <td>Yes</td>\n",
       "      <td>Yes</td>\n",
       "      <td>3.9/5</td>\n",
       "      <td>225</td>\n",
       "      <td>Marathahalli</td>\n",
       "      <td>Casual Dining</td>\n",
       "      <td>Bamboo Chicken, Butter Naan, Mutton Biryani, P...</td>\n",
       "      <td>North Indian, Biryani, Andhra, Chinese</td>\n",
       "      <td>800</td>\n",
       "      <td>[('Rated 5.0', 'RATEDn  Had Good experience wi...</td>\n",
       "      <td>[]</td>\n",
       "      <td>Delivery</td>\n",
       "      <td>Brookefield</td>\n",
       "    </tr>\n",
       "  </tbody>\n",
       "</table>\n",
       "</div>"
      ],
      "text/plain": [
       "   Unnamed: 0                          name online_order book_table    rate  \\\n",
       "0       46019        Unique Brew Cafe Resto           No         No     NaN   \n",
       "1       28849                Jayanthi Sagar           No         No  3.1 /5   \n",
       "2       19855  Rock Stone Ice Cream Factory          Yes         No   4.0/5   \n",
       "3       35188         Punjabi by Nature 2.0           No         No  4.2 /5   \n",
       "4        7070             Rayalaseema Chefs          Yes        Yes   3.9/5   \n",
       "\n",
       "   votes               location                    rest_type  \\\n",
       "0      0            Indiranagar                  Quick Bites   \n",
       "1     21  Koramangala 5th Block                  Quick Bites   \n",
       "2    131                    BTM               Dessert Parlor   \n",
       "3   3236                    BTM  Casual Dining, Microbrewery   \n",
       "4    225           Marathahalli                Casual Dining   \n",
       "\n",
       "                                          dish_liked  \\\n",
       "0                                                NaN   \n",
       "1                                                NaN   \n",
       "2  Icecream Cake, Brownie, Waffles, Chocolate Ice...   \n",
       "3  Paneer Tikki, Mutton Raan, Mango Margarita, Cr...   \n",
       "4  Bamboo Chicken, Butter Naan, Mutton Biryani, P...   \n",
       "\n",
       "                                 cuisines approx_cost(for two people)  \\\n",
       "0                               Fast Food                         200   \n",
       "1     South Indian, North Indian, Chinese                         200   \n",
       "2                               Ice Cream                         230   \n",
       "3                            North Indian                         NaN   \n",
       "4  North Indian, Biryani, Andhra, Chinese                         800   \n",
       "\n",
       "                                        reviews_list  \\\n",
       "0                                                 []   \n",
       "1  [('Rated 2.0', \"RATEDn  Works only because it'...   \n",
       "2  [('Rated 4.0', \"RATEDn  Ice creams are really ...   \n",
       "3  [('Rated 3.0', \"RATEDn  It has a beautiful amb...   \n",
       "4  [('Rated 5.0', 'RATEDn  Had Good experience wi...   \n",
       "\n",
       "                                           menu_item listed_in(type)  \\\n",
       "0                                                 []        Dine-out   \n",
       "1                                                 []        Dine-out   \n",
       "2  ['Midnight Indulgence Cake', 'Butterscotch Mel...        Delivery   \n",
       "3                                                 []        Delivery   \n",
       "4                                                 []        Delivery   \n",
       "\n",
       "         listed_in(city)  \n",
       "0       Old Airport Road  \n",
       "1  Koramangala 4th Block  \n",
       "2              Jayanagar  \n",
       "3  Koramangala 7th Block  \n",
       "4            Brookefield  "
      ]
     },
     "execution_count": 3,
     "metadata": {},
     "output_type": "execute_result"
    }
   ],
   "source": [
    "resto_info.head()"
   ]
  },
  {
   "cell_type": "code",
   "execution_count": 5,
   "metadata": {},
   "outputs": [
    {
     "data": {
      "text/plain": [
       "<matplotlib.axes._subplots.AxesSubplot at 0x1d12afb3130>"
      ]
     },
     "execution_count": 5,
     "metadata": {},
     "output_type": "execute_result"
    },
    {
     "data": {
      "image/png": "[encoded data removed]",
      "text/plain": [
       "<Figure size 432x288 with 1 Axes>"
      ]
     },
     "metadata": {
      "needs_background": "light"
     },
     "output_type": "display_data"
    }
   ],
   "source": [
    "#Plot to check for the number of restraunts that accept online orders\n",
    "sns.countplot(data = resto_info, x= 'online_order')"
   ]
  },
  {
   "cell_type": "code",
   "execution_count": 6,
   "metadata": {},
   "outputs": [
    {
     "data": {
      "text/plain": [
       "<matplotlib.axes._subplots.AxesSubplot at 0x1d12a5b5eb0>"
      ]
     },
     "execution_count": 6,
     "metadata": {},
     "output_type": "execute_result"
    },
    {
     "data": {
      "image/png": "[encoded data removed]",
      "text/plain": [
       "<Figure size 432x288 with 1 Axes>"
      ]
     },
     "metadata": {
      "needs_background": "light"
     },
     "output_type": "display_data"
    }
   ],
   "source": [
    "#Plot to check for the number of restraunts that offer the facility to book tables online\n",
    "sns.countplot(data = resto_info, x= 'book_table')"
   ]
  },
  {
   "cell_type": "code",
   "execution_count": 7,
   "metadata": {},
   "outputs": [
    {
     "data": {
      "text/html": [
       "<div>\n",
       "<style scoped>\n",
       "    .dataframe tbody tr th:only-of-type {\n",
       "        vertical-align: middle;\n",
       "    }\n",
       "\n",
       "    .dataframe tbody tr th {\n",
       "        vertical-align: top;\n",
       "    }\n",
       "\n",
       "    .dataframe thead th {\n",
       "        text-align: right;\n",
       "    }\n",
       "</style>\n",
       "<table border=\"1\" class=\"dataframe\">\n",
       "  <thead>\n",
       "    <tr style=\"text-align: right;\">\n",
       "      <th></th>\n",
       "      <th>Unnamed: 0</th>\n",
       "      <th>votes</th>\n",
       "    </tr>\n",
       "  </thead>\n",
       "  <tbody>\n",
       "    <tr>\n",
       "      <th>count</th>\n",
       "      <td>2069.000000</td>\n",
       "      <td>2069.000000</td>\n",
       "    </tr>\n",
       "    <tr>\n",
       "      <th>mean</th>\n",
       "      <td>25840.654422</td>\n",
       "      <td>276.048333</td>\n",
       "    </tr>\n",
       "    <tr>\n",
       "      <th>std</th>\n",
       "      <td>14877.311956</td>\n",
       "      <td>673.916908</td>\n",
       "    </tr>\n",
       "    <tr>\n",
       "      <th>min</th>\n",
       "      <td>27.000000</td>\n",
       "      <td>0.000000</td>\n",
       "    </tr>\n",
       "    <tr>\n",
       "      <th>25%</th>\n",
       "      <td>12561.000000</td>\n",
       "      <td>7.000000</td>\n",
       "    </tr>\n",
       "    <tr>\n",
       "      <th>50%</th>\n",
       "      <td>26193.000000</td>\n",
       "      <td>43.000000</td>\n",
       "    </tr>\n",
       "    <tr>\n",
       "      <th>75%</th>\n",
       "      <td>38902.000000</td>\n",
       "      <td>210.000000</td>\n",
       "    </tr>\n",
       "    <tr>\n",
       "      <th>max</th>\n",
       "      <td>51643.000000</td>\n",
       "      <td>7854.000000</td>\n",
       "    </tr>\n",
       "  </tbody>\n",
       "</table>\n",
       "</div>"
      ],
      "text/plain": [
       "         Unnamed: 0        votes\n",
       "count   2069.000000  2069.000000\n",
       "mean   25840.654422   276.048333\n",
       "std    14877.311956   673.916908\n",
       "min       27.000000     0.000000\n",
       "25%    12561.000000     7.000000\n",
       "50%    26193.000000    43.000000\n",
       "75%    38902.000000   210.000000\n",
       "max    51643.000000  7854.000000"
      ]
     },
     "execution_count": 7,
     "metadata": {},
     "output_type": "execute_result"
    }
   ],
   "source": [
    "resto_info.describe()"
   ]
  },
  {
   "cell_type": "code",
   "execution_count": 8,
   "metadata": {},
   "outputs": [
    {
     "name": "stdout",
     "output_type": "stream",
     "text": [
      "<class 'pandas.core.frame.DataFrame'>\n",
      "RangeIndex: 2069 entries, 0 to 2068\n",
      "Data columns (total 15 columns):\n",
      " #   Column                       Non-Null Count  Dtype \n",
      "---  ------                       --------------  ----- \n",
      " 0   Unnamed: 0                   2069 non-null   int64 \n",
      " 1   name                         2069 non-null   object\n",
      " 2   online_order                 2069 non-null   object\n",
      " 3   book_table                   2069 non-null   object\n",
      " 4   rate                         1770 non-null   object\n",
      " 5   votes                        2069 non-null   int64 \n",
      " 6   location                     2069 non-null   object\n",
      " 7   rest_type                    2052 non-null   object\n",
      " 8   dish_liked                   962 non-null    object\n",
      " 9   cuisines                     2069 non-null   object\n",
      " 10  approx_cost(for two people)  2053 non-null   object\n",
      " 11  reviews_list                 2069 non-null   object\n",
      " 12  menu_item                    2069 non-null   object\n",
      " 13  listed_in(type)              2069 non-null   object\n",
      " 14  listed_in(city)              2069 non-null   object\n",
      "dtypes: int64(2), object(13)\n",
      "memory usage: 242.6+ KB\n"
     ]
    }
   ],
   "source": [
    "resto_info.info()"
   ]
  },
  {
   "cell_type": "code",
   "execution_count": 9,
   "metadata": {},
   "outputs": [
    {
     "data": {
      "text/plain": [
       "Unnamed: 0                        0\n",
       "name                              0\n",
       "online_order                      0\n",
       "book_table                        0\n",
       "rate                            299\n",
       "votes                             0\n",
       "location                          0\n",
       "rest_type                        17\n",
       "dish_liked                     1107\n",
       "cuisines                          0\n",
       "approx_cost(for two people)      16\n",
       "reviews_list                      0\n",
       "menu_item                         0\n",
       "listed_in(type)                   0\n",
       "listed_in(city)                   0\n",
       "dtype: int64"
      ]
     },
     "execution_count": 9,
     "metadata": {},
     "output_type": "execute_result"
    }
   ],
   "source": [
    "resto_info.isnull().sum()"
   ]
  },
  {
   "cell_type": "code",
   "execution_count": 14,
   "metadata": {},
   "outputs": [
    {
     "data": {
      "text/plain": [
       "<matplotlib.axes._subplots.AxesSubplot at 0x1d12f297280>"
      ]
     },
     "execution_count": 14,
     "metadata": {},
     "output_type": "execute_result"
    },
    {
     "data": {
      "image/png": "[encoded data removed]",
      "text/plain": [
       "<Figure size 864x432 with 1 Axes>"
      ]
     },
     "metadata": {
      "needs_background": "light"
     },
     "output_type": "display_data"
    }
   ],
   "source": [
    "plt.figure(figsize=(12,6))\n",
    "plt.tight_layout()\n",
    "sns.countplot(data=resto_info,x='rate')"
   ]
  },
  {
   "cell_type": "code",
   "execution_count": 15,
   "metadata": {},
   "outputs": [
    {
     "data": {
      "text/html": [
       "<div>\n",
       "<style scoped>\n",
       "    .dataframe tbody tr th:only-of-type {\n",
       "        vertical-align: middle;\n",
       "    }\n",
       "\n",
       "    .dataframe tbody tr th {\n",
       "        vertical-align: top;\n",
       "    }\n",
       "\n",
       "    .dataframe thead th {\n",
       "        text-align: right;\n",
       "    }\n",
       "</style>\n",
       "<table border=\"1\" class=\"dataframe\">\n",
       "  <thead>\n",
       "    <tr style=\"text-align: right;\">\n",
       "      <th></th>\n",
       "      <th>Unnamed: 0</th>\n",
       "      <th>name</th>\n",
       "      <th>online_order</th>\n",
       "      <th>book_table</th>\n",
       "      <th>rate</th>\n",
       "      <th>votes</th>\n",
       "      <th>location</th>\n",
       "      <th>rest_type</th>\n",
       "      <th>dish_liked</th>\n",
       "      <th>cuisines</th>\n",
       "      <th>approx_cost(for two people)</th>\n",
       "      <th>reviews_list</th>\n",
       "      <th>menu_item</th>\n",
       "      <th>listed_in(type)</th>\n",
       "      <th>listed_in(city)</th>\n",
       "    </tr>\n",
       "  </thead>\n",
       "  <tbody>\n",
       "    <tr>\n",
       "      <th>0</th>\n",
       "      <td>46019</td>\n",
       "      <td>Unique Brew Cafe Resto</td>\n",
       "      <td>No</td>\n",
       "      <td>No</td>\n",
       "      <td>NaN</td>\n",
       "      <td>0</td>\n",
       "      <td>Indiranagar</td>\n",
       "      <td>Quick Bites</td>\n",
       "      <td>NaN</td>\n",
       "      <td>Fast Food</td>\n",
       "      <td>200</td>\n",
       "      <td>[]</td>\n",
       "      <td>[]</td>\n",
       "      <td>Dine-out</td>\n",
       "      <td>Old Airport Road</td>\n",
       "    </tr>\n",
       "    <tr>\n",
       "      <th>1</th>\n",
       "      <td>28849</td>\n",
       "      <td>Jayanthi Sagar</td>\n",
       "      <td>No</td>\n",
       "      <td>No</td>\n",
       "      <td>3.1 /5</td>\n",
       "      <td>21</td>\n",
       "      <td>Koramangala 5th Block</td>\n",
       "      <td>Quick Bites</td>\n",
       "      <td>NaN</td>\n",
       "      <td>South Indian, North Indian, Chinese</td>\n",
       "      <td>200</td>\n",
       "      <td>[('Rated 2.0', \"RATEDn  Works only because it'...</td>\n",
       "      <td>[]</td>\n",
       "      <td>Dine-out</td>\n",
       "      <td>Koramangala 4th Block</td>\n",
       "    </tr>\n",
       "    <tr>\n",
       "      <th>2</th>\n",
       "      <td>19855</td>\n",
       "      <td>Rock Stone Ice Cream Factory</td>\n",
       "      <td>Yes</td>\n",
       "      <td>No</td>\n",
       "      <td>4.0/5</td>\n",
       "      <td>131</td>\n",
       "      <td>BTM</td>\n",
       "      <td>Dessert Parlor</td>\n",
       "      <td>Icecream Cake, Brownie, Waffles, Chocolate Ice...</td>\n",
       "      <td>Ice Cream</td>\n",
       "      <td>230</td>\n",
       "      <td>[('Rated 4.0', \"RATEDn  Ice creams are really ...</td>\n",
       "      <td>['Midnight Indulgence Cake', 'Butterscotch Mel...</td>\n",
       "      <td>Delivery</td>\n",
       "      <td>Jayanagar</td>\n",
       "    </tr>\n",
       "    <tr>\n",
       "      <th>3</th>\n",
       "      <td>35188</td>\n",
       "      <td>Punjabi by Nature 2.0</td>\n",
       "      <td>No</td>\n",
       "      <td>No</td>\n",
       "      <td>4.2 /5</td>\n",
       "      <td>3236</td>\n",
       "      <td>BTM</td>\n",
       "      <td>Casual Dining, Microbrewery</td>\n",
       "      <td>Paneer Tikki, Mutton Raan, Mango Margarita, Cr...</td>\n",
       "      <td>North Indian</td>\n",
       "      <td>NaN</td>\n",
       "      <td>[('Rated 3.0', \"RATEDn  It has a beautiful amb...</td>\n",
       "      <td>[]</td>\n",
       "      <td>Delivery</td>\n",
       "      <td>Koramangala 7th Block</td>\n",
       "    </tr>\n",
       "    <tr>\n",
       "      <th>4</th>\n",
       "      <td>7070</td>\n",
       "      <td>Rayalaseema Chefs</td>\n",
       "      <td>Yes</td>\n",
       "      <td>Yes</td>\n",
       "      <td>3.9/5</td>\n",
       "      <td>225</td>\n",
       "      <td>Marathahalli</td>\n",
       "      <td>Casual Dining</td>\n",
       "      <td>Bamboo Chicken, Butter Naan, Mutton Biryani, P...</td>\n",
       "      <td>North Indian, Biryani, Andhra, Chinese</td>\n",
       "      <td>800</td>\n",
       "      <td>[('Rated 5.0', 'RATEDn  Had Good experience wi...</td>\n",
       "      <td>[]</td>\n",
       "      <td>Delivery</td>\n",
       "      <td>Brookefield</td>\n",
       "    </tr>\n",
       "  </tbody>\n",
       "</table>\n",
       "</div>"
      ],
      "text/plain": [
       "   Unnamed: 0                          name online_order book_table    rate  \\\n",
       "0       46019        Unique Brew Cafe Resto           No         No     NaN   \n",
       "1       28849                Jayanthi Sagar           No         No  3.1 /5   \n",
       "2       19855  Rock Stone Ice Cream Factory          Yes         No   4.0/5   \n",
       "3       35188         Punjabi by Nature 2.0           No         No  4.2 /5   \n",
       "4        7070             Rayalaseema Chefs          Yes        Yes   3.9/5   \n",
       "\n",
       "   votes               location                    rest_type  \\\n",
       "0      0            Indiranagar                  Quick Bites   \n",
       "1     21  Koramangala 5th Block                  Quick Bites   \n",
       "2    131                    BTM               Dessert Parlor   \n",
       "3   3236                    BTM  Casual Dining, Microbrewery   \n",
       "4    225           Marathahalli                Casual Dining   \n",
       "\n",
       "                                          dish_liked  \\\n",
       "0                                                NaN   \n",
       "1                                                NaN   \n",
       "2  Icecream Cake, Brownie, Waffles, Chocolate Ice...   \n",
       "3  Paneer Tikki, Mutton Raan, Mango Margarita, Cr...   \n",
       "4  Bamboo Chicken, Butter Naan, Mutton Biryani, P...   \n",
       "\n",
       "                                 cuisines approx_cost(for two people)  \\\n",
       "0                               Fast Food                         200   \n",
       "1     South Indian, North Indian, Chinese                         200   \n",
       "2                               Ice Cream                         230   \n",
       "3                            North Indian                         NaN   \n",
       "4  North Indian, Biryani, Andhra, Chinese                         800   \n",
       "\n",
       "                                        reviews_list  \\\n",
       "0                                                 []   \n",
       "1  [('Rated 2.0', \"RATEDn  Works only because it'...   \n",
       "2  [('Rated 4.0', \"RATEDn  Ice creams are really ...   \n",
       "3  [('Rated 3.0', \"RATEDn  It has a beautiful amb...   \n",
       "4  [('Rated 5.0', 'RATEDn  Had Good experience wi...   \n",
       "\n",
       "                                           menu_item listed_in(type)  \\\n",
       "0                                                 []        Dine-out   \n",
       "1                                                 []        Dine-out   \n",
       "2  ['Midnight Indulgence Cake', 'Butterscotch Mel...        Delivery   \n",
       "3                                                 []        Delivery   \n",
       "4                                                 []        Delivery   \n",
       "\n",
       "         listed_in(city)  \n",
       "0       Old Airport Road  \n",
       "1  Koramangala 4th Block  \n",
       "2              Jayanagar  \n",
       "3  Koramangala 7th Block  \n",
       "4            Brookefield  "
      ]
     },
     "execution_count": 15,
     "metadata": {},
     "output_type": "execute_result"
    }
   ],
   "source": [
    "resto_info.head()"
   ]
  },
  {
   "cell_type": "code",
   "execution_count": 16,
   "metadata": {},
   "outputs": [
    {
     "data": {
      "text/plain": [
       "<seaborn.axisgrid.PairGrid at 0x1d130457a60>"
      ]
     },
     "execution_count": 16,
     "metadata": {},
     "output_type": "execute_result"
    },
    {
     "data": {
      "image/png": "[encoded data removed]",
      "text/plain": [
       "<Figure size 360x360 with 6 Axes>"
      ]
     },
     "metadata": {
      "needs_background": "light"
     },
     "output_type": "display_data"
    }
   ],
   "source": [
    "sns.pairplot(resto_info)"
   ]
  },
  {
   "cell_type": "code",
   "execution_count": 28,
   "metadata": {},
   "outputs": [
    {
     "data": {
      "text/plain": [
       "<matplotlib.axes._subplots.AxesSubplot at 0x1d131687d30>"
      ]
     },
     "execution_count": 28,
     "metadata": {},
     "output_type": "execute_result"
    },
    {
     "data": {
      "image/png": "[encoded data removed]",
      "text/plain": [
       "<Figure size 432x288 with 1 Axes>"
      ]
     },
     "metadata": {
      "needs_background": "light"
     },
     "output_type": "display_data"
    }
   ],
   "source": [
    "sns.distplot(resto_info['votes'],kde=False,color='red',bins=30)"
   ]
  },
  {
   "cell_type": "code",
   "execution_count": 30,
   "metadata": {},
   "outputs": [
    {
     "name": "stdout",
     "output_type": "stream",
     "text": [
      "<class 'pandas.core.frame.DataFrame'>\n",
      "RangeIndex: 2069 entries, 0 to 2068\n",
      "Data columns (total 15 columns):\n",
      " #   Column                       Non-Null Count  Dtype \n",
      "---  ------                       --------------  ----- \n",
      " 0   Unnamed: 0                   2069 non-null   int64 \n",
      " 1   name                         2069 non-null   object\n",
      " 2   online_order                 2069 non-null   object\n",
      " 3   book_table                   2069 non-null   object\n",
      " 4   rate                         1770 non-null   object\n",
      " 5   votes                        2069 non-null   int64 \n",
      " 6   location                     2069 non-null   object\n",
      " 7   rest_type                    2052 non-null   object\n",
      " 8   dish_liked                   962 non-null    object\n",
      " 9   cuisines                     2069 non-null   object\n",
      " 10  approx_cost(for two people)  2053 non-null   object\n",
      " 11  reviews_list                 2069 non-null   object\n",
      " 12  menu_item                    2069 non-null   object\n",
      " 13  listed_in(type)              2069 non-null   object\n",
      " 14  listed_in(city)              2069 non-null   object\n",
      "dtypes: int64(2), object(13)\n",
      "memory usage: 242.6+ KB\n"
     ]
    }
   ],
   "source": [
    "resto_info.info()"
   ]
  },
  {
   "cell_type": "code",
   "execution_count": 42,
   "metadata": {},
   "outputs": [
    {
     "data": {
      "text/plain": [
       "<matplotlib.axes._subplots.AxesSubplot at 0x1d12f3aa400>"
      ]
     },
     "execution_count": 42,
     "metadata": {},
     "output_type": "execute_result"
    },
    {
     "data": {
      "image/png": "[encoded data removed]",
      "text/plain": [
       "<Figure size 864x432 with 1 Axes>"
      ]
     },
     "metadata": {
      "needs_background": "light"
     },
     "output_type": "display_data"
    }
   ],
   "source": [
    "plt.figure(figsize=(12,6))\n",
    "sns.countplot(data=resto_info,x='listed_in(type)')"
   ]
  }
 ],
 "metadata": {
  "kernelspec": {
   "display_name": "Python 3",
   "language": "python",
   "name": "python3"
  },
  "language_info": {
   "codemirror_mode": {
    "name": "ipython",
    "version": 3
   },
   "file_extension": ".py",
   "mimetype": "text/x-python",
   "name": "python",
   "nbconvert_exporter": "python",
   "pygments_lexer": "ipython3",
   "version": "3.8.3rc1"
  }
 },
 "nbformat": 4,
 "nbformat_minor": 4
}
